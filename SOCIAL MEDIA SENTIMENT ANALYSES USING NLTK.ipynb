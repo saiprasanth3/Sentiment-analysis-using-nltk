{
 "cells": [
  {
   "cell_type": "code",
   "execution_count": 2,
   "id": "3f02bb42",
   "metadata": {},
   "outputs": [
    {
     "name": "stderr",
     "output_type": "stream",
     "text": [
      "[nltk_data] Downloading package vader_lexicon to\n",
      "[nltk_data]     C:\\Users\\gotti\\AppData\\Roaming\\nltk_data...\n",
      "[nltk_data]   Package vader_lexicon is already up-to-date!\n"
     ]
    },
    {
     "data": {
      "text/plain": [
       "True"
      ]
     },
     "execution_count": 2,
     "metadata": {},
     "output_type": "execute_result"
    }
   ],
   "source": [
    "import nltk\n",
    "nltk.download('vader_lexicon')"
   ]
  },
  {
   "cell_type": "code",
   "execution_count": 4,
   "id": "c33abed8",
   "metadata": {},
   "outputs": [],
   "source": [
    "import pandas as pd\n",
    "\n",
    "# load the dataset\n",
    "df = pd.read_csv(\"C:\\Tweets.csv\\Tweets.csv\")"
   ]
  },
  {
   "cell_type": "code",
   "execution_count": 5,
   "id": "939a01b3",
   "metadata": {},
   "outputs": [],
   "source": [
    "import nltk\n",
    "from nltk.sentiment.vader import SentimentIntensityAnalyzer\n",
    "\n",
    "# initialize the sentiment analyzer\n",
    "sia = SentimentIntensityAnalyzer()\n",
    "\n",
    "# analyze the sentiment of each tweet\n",
    "for index, row in df.iterrows():\n",
    "    tweet = row['text']\n",
    "    sentiment = sia.polarity_scores(tweet)\n",
    "    df.at[index, 'sentiment'] = sentiment['compound']"
   ]
  },
  {
   "cell_type": "code",
   "execution_count": 22,
   "id": "505e76df",
   "metadata": {},
   "outputs": [],
   "source": [
    "# # save the results to a new CSV file\n",
    "df.to_csv('tweets_sentiment.csv', index=False)"
   ]
  },
  {
   "cell_type": "code",
   "execution_count": 24,
   "id": "0c2dc8d8",
   "metadata": {},
   "outputs": [
    {
     "name": "stdout",
     "output_type": "stream",
     "text": [
      "             tweet_id airline_sentiment  airline_sentiment_confidence  \\\n",
      "0  570306133677760513           neutral                        1.0000   \n",
      "1  570301130888122368          positive                        0.3486   \n",
      "2  570301083672813571           neutral                        0.6837   \n",
      "3  570301031407624196          negative                        1.0000   \n",
      "4  570300817074462722          negative                        1.0000   \n",
      "\n",
      "  negativereason  negativereason_confidence         airline  \\\n",
      "0            NaN                        NaN  Virgin America   \n",
      "1            NaN                     0.0000  Virgin America   \n",
      "2            NaN                        NaN  Virgin America   \n",
      "3     Bad Flight                     0.7033  Virgin America   \n",
      "4     Can't Tell                     1.0000  Virgin America   \n",
      "\n",
      "  airline_sentiment_gold        name negativereason_gold  retweet_count  \\\n",
      "0                    NaN     cairdin                 NaN              0   \n",
      "1                    NaN    jnardino                 NaN              0   \n",
      "2                    NaN  yvonnalynn                 NaN              0   \n",
      "3                    NaN    jnardino                 NaN              0   \n",
      "4                    NaN    jnardino                 NaN              0   \n",
      "\n",
      "                                                text tweet_coord  \\\n",
      "0                @VirginAmerica What @dhepburn said.         NaN   \n",
      "1  @VirginAmerica plus you've added commercials t...         NaN   \n",
      "2  @VirginAmerica I didn't today... Must mean I n...         NaN   \n",
      "3  @VirginAmerica it's really aggressive to blast...         NaN   \n",
      "4  @VirginAmerica and it's a really big bad thing...         NaN   \n",
      "\n",
      "               tweet_created tweet_location               user_timezone  \\\n",
      "0  2015-02-24 11:35:52 -0800            NaN  Eastern Time (US & Canada)   \n",
      "1  2015-02-24 11:15:59 -0800            NaN  Pacific Time (US & Canada)   \n",
      "2  2015-02-24 11:15:48 -0800      Lets Play  Central Time (US & Canada)   \n",
      "3  2015-02-24 11:15:36 -0800            NaN  Pacific Time (US & Canada)   \n",
      "4  2015-02-24 11:14:45 -0800            NaN  Pacific Time (US & Canada)   \n",
      "\n",
      "   sentiment  \n",
      "0     0.0000  \n",
      "1     0.0000  \n",
      "2     0.0000  \n",
      "3    -0.5984  \n",
      "4    -0.5829  \n"
     ]
    }
   ],
   "source": [
    "# print the first 10 rows of the DataFrame\n",
    "print(df.head(5))"
   ]
  },
  {
   "cell_type": "markdown",
   "id": "c39b192a",
   "metadata": {},
   "source": [
    "# USING ARRAY INPUT"
   ]
  },
  {
   "cell_type": "code",
   "execution_count": 12,
   "id": "27d874a6",
   "metadata": {},
   "outputs": [],
   "source": [
    "tweets = [\n",
    "    \"I love this product, it's amazing!\",\n",
    "    \"This service is terrible, I'm never using it again\",\n",
    "    \"Just tried the new menu item and it was okay\",\n",
    "    \"The customer support was very helpful and friendly\"\n",
    "]"
   ]
  },
  {
   "cell_type": "code",
   "execution_count": 15,
   "id": "5addfc13",
   "metadata": {},
   "outputs": [
    {
     "name": "stdout",
     "output_type": "stream",
     "text": [
      "I love this product, it's amazing!\n",
      "{'neg': 0.0, 'neu': 0.266, 'pos': 0.734, 'compound': 0.8516}\n",
      "This service is terrible, I'm never using it again\n",
      "{'neg': 0.279, 'neu': 0.721, 'pos': 0.0, 'compound': -0.4767}\n",
      "Just tried the new menu item and it was okay\n",
      "{'neg': 0.0, 'neu': 0.826, 'pos': 0.174, 'compound': 0.2263}\n",
      "The customer support was very helpful and friendly\n",
      "{'neg': 0.0, 'neu': 0.351, 'pos': 0.649, 'compound': 0.8503}\n"
     ]
    }
   ],
   "source": [
    "for tweet in tweets:\n",
    "    sentiment = sia.polarity_scores(tweet)\n",
    "    print(tweet)\n",
    "    print(sentiment)"
   ]
  },
  {
   "cell_type": "code",
   "execution_count": null,
   "id": "fb1545d5",
   "metadata": {},
   "outputs": [],
   "source": []
  }
 ],
 "metadata": {
  "kernelspec": {
   "display_name": "Python 3 (ipykernel)",
   "language": "python",
   "name": "python3"
  },
  "language_info": {
   "codemirror_mode": {
    "name": "ipython",
    "version": 3
   },
   "file_extension": ".py",
   "mimetype": "text/x-python",
   "name": "python",
   "nbconvert_exporter": "python",
   "pygments_lexer": "ipython3",
   "version": "3.9.13"
  }
 },
 "nbformat": 4,
 "nbformat_minor": 5
}
